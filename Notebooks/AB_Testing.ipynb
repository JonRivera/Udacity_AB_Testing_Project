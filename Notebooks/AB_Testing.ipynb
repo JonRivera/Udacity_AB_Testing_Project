{
  "nbformat": 4,
  "nbformat_minor": 0,
  "metadata": {
    "colab": {
      "name": "AB_Testing.ipynb",
      "provenance": [],
      "authorship_tag": "ABX9TyMnIbFQnjXGk3I7zIhifvPX",
      "include_colab_link": true
    },
    "kernelspec": {
      "name": "python3",
      "display_name": "Python 3"
    }
  },
  "cells": [
    {
      "cell_type": "markdown",
      "metadata": {
        "id": "view-in-github",
        "colab_type": "text"
      },
      "source": [
        "<a href=\"https://colab.research.google.com/github/JonRivera/Udacity_AB_Testing_Project/blob/main/Notebooks/AB_Testing.ipynb\" target=\"_parent\"><img src=\"https://colab.research.google.com/assets/colab-badge.svg\" alt=\"Open In Colab\"/></a>"
      ]
    },
    {
      "cell_type": "code",
      "metadata": {
        "id": "ethivx-5G2jx"
      },
      "source": [
        "# Based on https://www.kaggle.com/tammyrotem/ab-tests-with-python\n",
        "# Experiment Name: \"Free Trial\" Screener.\n",
        "# https://github.com/baumanab/udacity_ABTesting#summary\n"
      ],
      "execution_count": null,
      "outputs": []
    },
    {
      "cell_type": "code",
      "metadata": {
        "id": "jEQ-RP9_G96_"
      },
      "source": [
        "# Imports\n",
        "import math as mt\n",
        "import numpy as np\n",
        "import pandas as pd\n",
        "from scipy.stats import norm\n",
        "from datetime import date\n",
        "import re"
      ],
      "execution_count": 2,
      "outputs": []
    },
    {
      "cell_type": "code",
      "metadata": {
        "id": "HSkLdzIrR5kk"
      },
      "source": [
        "# Load data\n",
        "xl_file = pd.ExcelFile('https://github.com/JonRivera/Udacity_AB_Testing_Project/blob/main/Data/Final%20Project%20Results.xlsx')\n",
        "dfs = {sheet_name: xl_file.parse(sheet_name) for sheet_name in xl_file.sheet_names}\n",
        "print(dfs.keys())"
      ],
      "execution_count": null,
      "outputs": []
    },
    {
      "cell_type": "code",
      "metadata": {
        "id": "zz184qilHgxT"
      },
      "source": [
        ""
      ],
      "execution_count": null,
      "outputs": []
    }
  ]
}